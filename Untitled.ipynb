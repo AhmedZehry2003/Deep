{
 "cells": [
  {
   "cell_type": "code",
   "execution_count": 3,
   "id": "a2210ec0",
   "metadata": {},
   "outputs": [
    {
     "name": "stdout",
     "output_type": "stream",
     "text": [
      "Time Step 1:\n",
      "  Forget gate (f_t): 0.622\n",
      "  Input gate (i_t): 0.646\n",
      "  Candidate cell state (C_tilde_t): 0.604\n",
      "  Cell state (C_t): 0.390\n",
      "  Output gate (o_t): 0.690\n",
      "  Hidden state (h_t): 0.256\n",
      "\n",
      "Time Step 2:\n",
      "  Forget gate (f_t): 0.736\n",
      "  Input gate (i_t): 0.778\n",
      "  Candidate cell state (C_tilde_t): 0.901\n",
      "  Cell state (C_t): 0.988\n",
      "  Output gate (o_t): 0.846\n",
      "  Hidden state (h_t): 0.640\n",
      "\n",
      "Time Step 3:\n",
      "  Forget gate (f_t): 0.827\n",
      "  Input gate (i_t): 0.873\n",
      "  Candidate cell state (C_tilde_t): 0.980\n",
      "  Cell state (C_t): 1.672\n",
      "  Output gate (o_t): 0.934\n",
      "  Hidden state (h_t): 0.871\n",
      "\n",
      "Predicted next value: 3.483\n"
     ]
    }
   ],
   "source": [
    "import numpy as np\n",
    "\n",
    "def sigmoid(x):\n",
    "    return 1 / (1 + np.exp(-x))\n",
    "\n",
    "def tanh(x):\n",
    "    return np.tanh(x)\n",
    "\n",
    "W_f, W_hf, b_f = 0.5, 0.1, 0\n",
    "W_i, W_hi, b_i = 0.6, 0.2, 0\n",
    "W_c, W_hc, b_c = 0.7, 0.3, 0\n",
    "W_o, W_ho, b_o = 0.8, 0.4, 0\n",
    "\n",
    "h_prev, C_prev = 0, 0\n",
    "\n",
    "X = [1,2,3]\n",
    "\n",
    "for t in range(len(X)):\n",
    "    x_t = X[t]\n",
    "    \n",
    "    f_t = sigmoid(W_f * x_t + W_hf * h_prev + b_f)\n",
    "    \n",
    "    i_t = sigmoid(W_i * x_t + W_hi * h_prev + b_i)\n",
    "    \n",
    "    C_tilde_t = tanh(W_c * x_t + W_hc * h_prev + b_c)\n",
    "    \n",
    "    C_t = f_t * C_prev + i_t * C_tilde_t\n",
    "\n",
    "    o_t = sigmoid(W_o * x_t + W_ho * h_prev + b_o)\n",
    "    \n",
    "    h_t = o_t * tanh(C_t)\n",
    "    \n",
    "    h_prev, C_prev = h_t, C_t\n",
    "    \n",
    "    print(f\"Time Step {t + 1}:\")\n",
    "    print(f\"  Forget gate (f_t): {f_t:.3f}\")\n",
    "    print(f\"  Input gate (i_t): {i_t:.3f}\")\n",
    "    print(f\"  Candidate cell state (C_tilde_t): {C_tilde_t:.3f}\")\n",
    "    print(f\"  Cell state (C_t): {C_t:.3f}\")\n",
    "    print(f\"  Output gate (o_t): {o_t:.3f}\")\n",
    "    print(f\"  Hidden state (h_t): {h_t:.3f}\")\n",
    "    print()\n",
    "\n",
    "W_y, b_y = 4, 0\n",
    "y_pred = W_y * h_t + b_y\n",
    "\n",
    "print(f\"Predicted next value: {y_pred:.3f}\")"
   ]
  },
  {
   "cell_type": "code",
   "execution_count": null,
   "id": "df3eb986",
   "metadata": {},
   "outputs": [],
   "source": []
  }
 ],
 "metadata": {
  "kernelspec": {
   "display_name": "Python 3 (ipykernel)",
   "language": "python",
   "name": "python3"
  },
  "language_info": {
   "codemirror_mode": {
    "name": "ipython",
    "version": 3
   },
   "file_extension": ".py",
   "mimetype": "text/x-python",
   "name": "python",
   "nbconvert_exporter": "python",
   "pygments_lexer": "ipython3",
   "version": "3.11.5"
  }
 },
 "nbformat": 4,
 "nbformat_minor": 5
}
