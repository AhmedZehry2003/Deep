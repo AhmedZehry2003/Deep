{
 "cells": [
  {
   "cell_type": "code",
   "execution_count": 7,
   "id": "a2c7fd7c",
   "metadata": {},
   "outputs": [],
   "source": [
    "import torch\n",
    "import torch.nn.functional as F\n",
    "from torch_geometric.datasets import Planetoid\n",
    "from torch_geometric.nn import GATConv, GCNConv\n",
    "import numpy as np"
   ]
  },
  {
   "cell_type": "code",
   "execution_count": 8,
   "id": "b089eee4",
   "metadata": {},
   "outputs": [],
   "source": [
    "def load_data():\n",
    "    dataset = Planetoid(root='/tmp/Cora', name='Cora')\n",
    "    data = dataset[0]\n",
    "    return data, dataset.num_features, dataset.num_classes\n"
   ]
  },
  {
   "cell_type": "code",
   "execution_count": 13,
   "id": "9afc5ffb",
   "metadata": {},
   "outputs": [],
   "source": [
    "class GATNet(torch.nn.Module):\n",
    "    def __init__(self, in_channels, hidden_channels, out_channels, heads=8):\n",
    "        super(GATNet, self).__init__()\n",
    "        self.conv1 = GATConv(in_channels, hidden_channels, heads=heads, dropout=0.6)\n",
    "        self.conv2 = GATConv(hidden_channels * heads, out_channels, heads=1, concat=False, dropout=0.6)\n",
    "\n",
    "    def forward(self, data):\n",
    "        x, edge_index = data.x, data.edge_index\n",
    "        x = F.dropout(x, p=0.6, training=self.training)\n",
    "        x = self.conv1(x, edge_index)\n",
    "        x = F.elu(x)\n",
    "        x = F.dropout(x, p=0.6, training=self.training)\n",
    "        x = self.conv2(x, edge_index)\n",
    "        return F.log_softmax(x, dim=1)\n"
   ]
  },
  {
   "cell_type": "code",
   "execution_count": 14,
   "id": "7cf28c67",
   "metadata": {},
   "outputs": [],
   "source": [
    "def train(model, data, optimizer, criterion, epochs=200):\n",
    "    model.train()\n",
    "    for epoch in range(epochs):\n",
    "        optimizer.zero_grad()\n",
    "        out = model(data)\n",
    "        loss = criterion(out[data.train_mask], data.y[data.train_mask])\n",
    "        loss.backward()\n",
    "        optimizer.step()\n",
    "        \n",
    "        if epoch % 10 == 0:\n",
    "            val_acc = evaluate(model, data, data.val_mask)\n",
    "            print(f'Epoch: {epoch:03d}, Loss: {loss:.4f}, Val Acc: {val_acc:.4f}')"
   ]
  },
  {
   "cell_type": "code",
   "execution_count": 15,
   "id": "af6039a8",
   "metadata": {},
   "outputs": [],
   "source": [
    "def evaluate(model, data, mask):\n",
    "    model.eval()\n",
    "    with torch.no_grad():\n",
    "        pred = model(data).argmax(dim=1)\n",
    "        correct = (pred[mask] == data.y[mask]).sum()\n",
    "        acc = int(correct) / int(mask.sum())\n",
    "    return acc"
   ]
  },
  {
   "cell_type": "code",
   "execution_count": 16,
   "id": "d4b6be22",
   "metadata": {},
   "outputs": [
    {
     "name": "stdout",
     "output_type": "stream",
     "text": [
      "Training GAT model...\n",
      "Epoch: 000, Loss: 2.0182, Val Acc: 0.3200\n",
      "Epoch: 010, Loss: 0.4212, Val Acc: 0.7940\n",
      "Epoch: 020, Loss: 0.0464, Val Acc: 0.7920\n",
      "Epoch: 030, Loss: 0.0083, Val Acc: 0.7800\n",
      "Epoch: 040, Loss: 0.0044, Val Acc: 0.7800\n",
      "Epoch: 050, Loss: 0.0042, Val Acc: 0.7820\n",
      "Epoch: 060, Loss: 0.0053, Val Acc: 0.7760\n",
      "Epoch: 070, Loss: 0.0067, Val Acc: 0.7740\n",
      "Epoch: 080, Loss: 0.0078, Val Acc: 0.7720\n",
      "Epoch: 090, Loss: 0.0081, Val Acc: 0.7700\n",
      "Epoch: 100, Loss: 0.0079, Val Acc: 0.7700\n",
      "Epoch: 110, Loss: 0.0074, Val Acc: 0.7680\n",
      "Epoch: 120, Loss: 0.0070, Val Acc: 0.7700\n",
      "Epoch: 130, Loss: 0.0067, Val Acc: 0.7660\n",
      "Epoch: 140, Loss: 0.0064, Val Acc: 0.7620\n",
      "Epoch: 150, Loss: 0.0061, Val Acc: 0.7580\n",
      "Epoch: 160, Loss: 0.0058, Val Acc: 0.7640\n",
      "Epoch: 170, Loss: 0.0056, Val Acc: 0.7600\n",
      "Epoch: 180, Loss: 0.0054, Val Acc: 0.7560\n",
      "Epoch: 190, Loss: 0.0052, Val Acc: 0.7540\n",
      "GAT Test Accuracy: 0.7960\n",
      "\n",
      "Training GCN model...\n",
      "Epoch: 000, Loss: 1.9552, Val Acc: 0.3540\n",
      "Epoch: 010, Loss: 0.6521, Val Acc: 0.7760\n",
      "Epoch: 020, Loss: 0.1249, Val Acc: 0.7880\n",
      "Epoch: 030, Loss: 0.0317, Val Acc: 0.7800\n",
      "Epoch: 040, Loss: 0.0162, Val Acc: 0.7820\n",
      "Epoch: 050, Loss: 0.0136, Val Acc: 0.7860\n",
      "Epoch: 060, Loss: 0.0145, Val Acc: 0.7900\n",
      "Epoch: 070, Loss: 0.0160, Val Acc: 0.7920\n",
      "Epoch: 080, Loss: 0.0168, Val Acc: 0.7940\n",
      "Epoch: 090, Loss: 0.0167, Val Acc: 0.7860\n",
      "Epoch: 100, Loss: 0.0160, Val Acc: 0.7820\n",
      "Epoch: 110, Loss: 0.0152, Val Acc: 0.7800\n",
      "Epoch: 120, Loss: 0.0144, Val Acc: 0.7780\n",
      "Epoch: 130, Loss: 0.0137, Val Acc: 0.7780\n",
      "Epoch: 140, Loss: 0.0131, Val Acc: 0.7740\n",
      "Epoch: 150, Loss: 0.0125, Val Acc: 0.7720\n",
      "Epoch: 160, Loss: 0.0120, Val Acc: 0.7740\n",
      "Epoch: 170, Loss: 0.0116, Val Acc: 0.7740\n",
      "Epoch: 180, Loss: 0.0112, Val Acc: 0.7760\n",
      "Epoch: 190, Loss: 0.0109, Val Acc: 0.7780\n",
      "GCN Test Accuracy: 0.8090\n",
      "\n",
      "Comparison Discussion:\n",
      "- GAT typically achieves slightly better accuracy than GCN due to its attention mechanism,\n",
      "  which allows it to weigh neighbor contributions differently.\n",
      "- GCN is computationally simpler and faster as it doesn't compute attention scores.\n",
      "- GAT has more parameters due to multiple attention heads, increasing memory usage.\n",
      "- The attention mechanism in GAT can provide better interpretability of node relationships.\n"
     ]
    }
   ],
   "source": [
    "def main():\n",
    "    # Load data\n",
    "    data, num_features, num_classes = load_data()\n",
    "    device = torch.device('cuda' if torch.cuda.is_available() else 'cpu')\n",
    "    data = data.to(device)\n",
    "    \n",
    "    # Initialize GAT model\n",
    "    gat_model = GATNet(num_features, hidden_channels=8, out_channels=num_classes).to(device)\n",
    "    optimizer = torch.optim.Adam(gat_model.parameters(), lr=0.005, weight_decay=5e-4)\n",
    "    criterion = torch.nn.CrossEntropyLoss()\n",
    "    \n",
    "    # Train GAT\n",
    "    print(\"Training GAT model...\")\n",
    "    train(gat_model, data, optimizer, criterion)\n",
    "    \n",
    "    # Evaluate GAT\n",
    "    test_acc = evaluate(gat_model, data, data.test_mask)\n",
    "    print(f'GAT Test Accuracy: {test_acc:.4f}')\n",
    "    \n",
    "    # Optional: Train and evaluate GCN\n",
    "    print(\"\\nTraining GCN model...\")\n",
    "    gcn_model = GCNNet(num_features, hidden_channels=16, out_channels=num_classes).to(device)\n",
    "    optimizer = torch.optim.Adam(gcn_model.parameters(), lr=0.01, weight_decay=5e-4)\n",
    "    \n",
    "    train(gcn_model, data, optimizer, criterion)\n",
    "    gcn_test_acc = evaluate(gcn_model, data, data.test_mask)\n",
    "    print(f'GCN Test Accuracy: {gcn_test_acc:.4f}')\n",
    "    \n",
    "    # Comparison discussion\n",
    "    print(\"\\nComparison Discussion:\")\n",
    "    print(\"- GAT typically achieves slightly better accuracy than GCN due to its attention mechanism,\")\n",
    "    print(\"  which allows it to weigh neighbor contributions differently.\")\n",
    "    print(\"- GCN is computationally simpler and faster as it doesn't compute attention scores.\")\n",
    "    print(\"- GAT has more parameters due to multiple attention heads, increasing memory usage.\")\n",
    "    print(\"- The attention mechanism in GAT can provide better interpretability of node relationships.\")\n",
    "\n",
    "if __name__ == '__main__':\n",
    "    main()"
   ]
  },
  {
   "cell_type": "code",
   "execution_count": null,
   "id": "65efe136",
   "metadata": {},
   "outputs": [],
   "source": []
  }
 ],
 "metadata": {
  "kernelspec": {
   "display_name": "Python 3 (ipykernel)",
   "language": "python",
   "name": "python3"
  },
  "language_info": {
   "codemirror_mode": {
    "name": "ipython",
    "version": 3
   },
   "file_extension": ".py",
   "mimetype": "text/x-python",
   "name": "python",
   "nbconvert_exporter": "python",
   "pygments_lexer": "ipython3",
   "version": "3.11.5"
  }
 },
 "nbformat": 4,
 "nbformat_minor": 5
}
